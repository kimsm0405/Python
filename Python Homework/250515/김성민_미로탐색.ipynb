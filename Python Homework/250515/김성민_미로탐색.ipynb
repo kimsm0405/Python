{
  "nbformat": 4,
  "nbformat_minor": 0,
  "metadata": {
    "colab": {
      "provenance": []
    },
    "kernelspec": {
      "name": "python3",
      "display_name": "Python 3"
    },
    "language_info": {
      "name": "python"
    }
  },
  "cells": [
    {
      "cell_type": "code",
      "source": [
        "import heapq\n",
        "\n",
        "maze = [\n",
        "    ['1','1','1','1','1','1'],\n",
        "    ['e','0','0','0','0','1'],\n",
        "    ['1','0','1','0','1','1'],\n",
        "    ['1','1','1','0','0','x'],\n",
        "    ['1','1','1','0','1','1'],\n",
        "    ['1','1','1','1','1','1']\n",
        "]\n",
        "\n",
        "dx, dy = [-1,1,0,0], [0,0,-1,1]\n",
        "visit = [[0]*6 for _ in range(6)]\n",
        "path = []\n"
      ],
      "metadata": {
        "id": "tRO4Leof0upL"
      },
      "execution_count": null,
      "outputs": []
    },
    {
      "cell_type": "code",
      "source": [
        "for i in range(6):\n",
        "    for j in range(6):\n",
        "        if maze[i][j] == 'e': sx, sy = i, j\n",
        "        if maze[i][j] == 'x': ex, ey = i, j\n",
        "\n",
        "q = []\n",
        "heapq.heappush(q, (0, sx, sy))\n",
        "visit[sx][sy] = 1\n"
      ],
      "metadata": {
        "id": "Q_206rTx0ueE"
      },
      "execution_count": null,
      "outputs": []
    },
    {
      "cell_type": "code",
      "source": [
        "while q:\n",
        "    _, x, y = heapq.heappop(q)\n",
        "    path.append((x, y))\n",
        "    if (x, y) == (ex, ey): break\n",
        "    for i in range(4):\n",
        "        nx, ny = x+dx[i], y+dy[i]\n",
        "        if 0<=nx<6 and 0<=ny<6 and maze[nx][ny]!='1' and not visit[nx][ny]:\n",
        "            visit[nx][ny]=1\n",
        "            dist = abs(nx-ex)+abs(ny-ey)  # 우선순위 = 목적지까지 거리\n",
        "            heapq.heappush(q, (dist, nx, ny))\n"
      ],
      "metadata": {
        "id": "eKs73arC0tR3"
      },
      "execution_count": null,
      "outputs": []
    },
    {
      "cell_type": "code",
      "execution_count": null,
      "metadata": {
        "colab": {
          "base_uri": "https://localhost:8080/"
        },
        "id": "fve6XaeehIvq",
        "outputId": "4cc30e64-ff3f-4c35-911d-1547f8cf3f57"
      },
      "outputs": [
        {
          "output_type": "stream",
          "name": "stdout",
          "text": [
            " 방문 경로:\n",
            "(1, 0) (1, 1) (1, 2) (1, 3) (1, 4) (2, 3) (3, 3) (3, 4) (3, 5)\n",
            "\n",
            " 미로 탈출 성공!\n"
          ]
        }
      ],
      "source": [
        "# 출력\n",
        "print(\" 방문 경로:\")\n",
        "print(*path)\n",
        "print(\"\\n 미로 탈출 성공!\" if (ex, ey) in path else \"\\n 미로 탈출 실패!\")\n"
      ]
    }
  ]
}